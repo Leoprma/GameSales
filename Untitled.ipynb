{
 "cells": [
  {
   "cell_type": "code",
   "execution_count": 2,
   "metadata": {
    "ExecuteTime": {
     "end_time": "2021-04-02T19:26:11.654646Z",
     "start_time": "2021-04-02T19:26:08.874386Z"
    }
   },
   "outputs": [
    {
     "name": "stdout",
     "output_type": "stream",
     "text": [
      "Collecting rawgpy\n",
      "  Downloading rawgpy-1.0.3-py3-none-any.whl (25 kB)\n",
      "Installing collected packages: rawgpy\n",
      "Successfully installed rawgpy-1.0.3\n",
      "Note: you may need to restart the kernel to use updated packages.\n"
     ]
    }
   ],
   "source": [
    "pip install rawgpy"
   ]
  },
  {
   "cell_type": "code",
   "execution_count": 1,
   "metadata": {
    "ExecuteTime": {
     "end_time": "2021-04-02T19:26:24.364099Z",
     "start_time": "2021-04-02T19:26:22.056937Z"
    }
   },
   "outputs": [
    {
     "name": "stdout",
     "output_type": "stream",
     "text": [
      "Warframe\n",
      "<p>Warframe is an online free-to-play cooperative third-person looter shooter. In the far future the Orokin had absolute control over the solar system but have since disappeared, now the militaristic Grineer, the money-worshipping Corpus, and the Infested fight for what they left behind. You are a Tenno - a master of gun and blade and user of the Warframes, it is up to you to bring back balance to the system from within, while also fighting a new threat from without: the Sentients.<br />\n",
      "Over 40 unique Warframes to build, hundreds of guns and melee weapons to utilize, and various pet companions to help you along the way - all of which can be crafted for free and enhanced by an in-depth modding system.<br />\n",
      "With constant updates by Digital Extremes, the game now has over six years of updates including new open-world landscapes (Plains of Eidolon-2017, Orb Vallis-2018) and cinematic story expansions (The Second Dream-2015, The War Within-2016, The The Sacrifice-2018) with more content being added every year.</p>\n"
     ]
    }
   ],
   "source": [
    "import rawgpy\n",
    "\n",
    "rawg = rawgpy.RAWG(\"User-Agent, this should identify your app\")\n",
    "results = rawg.search(\"Warframe\")  # defaults to returning the top 5 results\n",
    "game = results[0]\n",
    "game.populate()  # get additional info for the game\n",
    "\n",
    "print(game.name)\n",
    "\n",
    "print(game.description)"
   ]
  },
  {
   "cell_type": "code",
   "execution_count": 22,
   "metadata": {
    "ExecuteTime": {
     "end_time": "2021-04-02T19:34:48.195602Z",
     "start_time": "2021-04-02T19:34:47.017349Z"
    }
   },
   "outputs": [],
   "source": [
    "results = rawg.search(\"Resident evil 3\")"
   ]
  },
  {
   "cell_type": "code",
   "execution_count": 30,
   "metadata": {
    "ExecuteTime": {
     "end_time": "2021-04-02T19:35:51.128574Z",
     "start_time": "2021-04-02T19:35:50.803299Z"
    }
   },
   "outputs": [
    {
     "data": {
      "text/plain": [
       "True"
      ]
     },
     "execution_count": 30,
     "metadata": {},
     "output_type": "execute_result"
    }
   ],
   "source": [
    "game=results[0]\n",
    "game.populate()"
   ]
  },
  {
   "cell_type": "code",
   "execution_count": 33,
   "metadata": {
    "ExecuteTime": {
     "end_time": "2021-04-02T19:36:13.774532Z",
     "start_time": "2021-04-02T19:36:13.770543Z"
    }
   },
   "outputs": [
    {
     "data": {
      "text/plain": [
       "[action, shooter, adventure]"
      ]
     },
     "execution_count": 33,
     "metadata": {},
     "output_type": "execute_result"
    }
   ],
   "source": [
    "game.genres"
   ]
  },
  {
   "cell_type": "code",
   "execution_count": 34,
   "metadata": {
    "ExecuteTime": {
     "end_time": "2021-04-02T19:36:38.019933Z",
     "start_time": "2021-04-02T19:36:36.815184Z"
    }
   },
   "outputs": [],
   "source": [
    "import pandas as pd"
   ]
  },
  {
   "cell_type": "code",
   "execution_count": 35,
   "metadata": {
    "ExecuteTime": {
     "end_time": "2021-04-02T19:37:10.657394Z",
     "start_time": "2021-04-02T19:37:10.641406Z"
    }
   },
   "outputs": [],
   "source": [
    "df=pd.read_csv('C:/Users/lprat/Documents/Ironhack/GameSales/psdeals_database_31.04.csv')"
   ]
  },
  {
   "cell_type": "code",
   "execution_count": 39,
   "metadata": {
    "ExecuteTime": {
     "end_time": "2021-04-02T19:37:26.866251Z",
     "start_time": "2021-04-02T19:37:26.863237Z"
    }
   },
   "outputs": [],
   "source": [
    "titles=df.Title"
   ]
  },
  {
   "cell_type": "code",
   "execution_count": 42,
   "metadata": {
    "ExecuteTime": {
     "end_time": "2021-04-02T19:38:18.065566Z",
     "start_time": "2021-04-02T19:38:15.774691Z"
    }
   },
   "outputs": [
    {
     "data": {
      "text/plain": [
       "[shooter, massively-multiplayer]"
      ]
     },
     "execution_count": 42,
     "metadata": {},
     "output_type": "execute_result"
    }
   ],
   "source": [
    "results = rawg.search(titles[0])\n",
    "game=results[0]\n",
    "game.name\n",
    "game.populate()\n",
    "game.genres"
   ]
  },
  {
   "cell_type": "code",
   "execution_count": 43,
   "metadata": {
    "ExecuteTime": {
     "end_time": "2021-04-02T19:40:58.078426Z",
     "start_time": "2021-04-02T19:40:58.073439Z"
    }
   },
   "outputs": [
    {
     "data": {
      "text/plain": [
       "True"
      ]
     },
     "execution_count": 43,
     "metadata": {},
     "output_type": "execute_result"
    }
   ],
   "source": [
    "game.name==titles[0]"
   ]
  }
 ],
 "metadata": {
  "kernelspec": {
   "display_name": "Python 3",
   "language": "python",
   "name": "python3"
  },
  "language_info": {
   "codemirror_mode": {
    "name": "ipython",
    "version": 3
   },
   "file_extension": ".py",
   "mimetype": "text/x-python",
   "name": "python",
   "nbconvert_exporter": "python",
   "pygments_lexer": "ipython3",
   "version": "3.8.3"
  },
  "toc": {
   "base_numbering": 1,
   "nav_menu": {},
   "number_sections": true,
   "sideBar": true,
   "skip_h1_title": false,
   "title_cell": "Table of Contents",
   "title_sidebar": "Contents",
   "toc_cell": false,
   "toc_position": {},
   "toc_section_display": true,
   "toc_window_display": false
  },
  "varInspector": {
   "cols": {
    "lenName": 16,
    "lenType": 16,
    "lenVar": 40
   },
   "kernels_config": {
    "python": {
     "delete_cmd_postfix": "",
     "delete_cmd_prefix": "del ",
     "library": "var_list.py",
     "varRefreshCmd": "print(var_dic_list())"
    },
    "r": {
     "delete_cmd_postfix": ") ",
     "delete_cmd_prefix": "rm(",
     "library": "var_list.r",
     "varRefreshCmd": "cat(var_dic_list()) "
    }
   },
   "types_to_exclude": [
    "module",
    "function",
    "builtin_function_or_method",
    "instance",
    "_Feature"
   ],
   "window_display": false
  }
 },
 "nbformat": 4,
 "nbformat_minor": 4
}
